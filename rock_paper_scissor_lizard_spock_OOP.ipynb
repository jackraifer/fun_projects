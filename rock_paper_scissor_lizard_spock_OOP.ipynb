{
 "cells": [
  {
   "cell_type": "markdown",
   "id": "1330a44a-f8ee-40a8-b580-84da0bf8ef35",
   "metadata": {},
   "source": [
    "Create a Player class"
   ]
  },
  {
   "cell_type": "code",
   "execution_count": 1,
   "id": "efd0673e-2243-4a6b-8f6a-aae98cc2f21e",
   "metadata": {},
   "outputs": [],
   "source": [
    "class Participant:\n",
    "    def __init__(self, name):\n",
    "        self.name = name\n",
    "        self.points = 0\n",
    "        self.choice = \"\"\n",
    "    def choose(self):\n",
    "        self.choice = input(\"{name}, select rock, paper, scissor, lizard or spock: \".format(name= self.name))\n",
    "        print(\"{name} selects {choice}\".format(name=self.name, choice = self.choice))\n",
    "    def toNumericalChoice(self):\n",
    "        switcher = {\n",
    "          \"rock\": 0,\n",
    "          \"paper\": 1,\n",
    "          \"scissor\": 2,\n",
    "          \"lizard\": 3,\n",
    "          \"spock\": 4 \n",
    "        }\n",
    "        return switcher[self.choice]\n",
    "    def incrementPoint(self):\n",
    "        self.points += 1 \n"
   ]
  },
  {
   "cell_type": "markdown",
   "id": "68a98c61-ad53-4367-afa6-d8b1dac88546",
   "metadata": {},
   "source": [
    "Create a GameRound class for each round of the game"
   ]
  },
  {
   "cell_type": "code",
   "execution_count": 2,
   "id": "c9c401a6-875c-4a80-b838-5721ee5230fc",
   "metadata": {},
   "outputs": [],
   "source": [
    "class GameRound:\n",
    "    def __init__(self, p1, p2):\n",
    "        self.rules = [\n",
    "          [0, -1, 1, 1, -1],\n",
    "          [1, 0, -1, -1, 1],\n",
    "          [-1, 1, 0, 1, -1],\n",
    "          [-1, 1, -1, 0, 1],\n",
    "          [1, -1, 1, -1, 0]\n",
    "        ] \n",
    "\n",
    "        p1.choose()\n",
    "        p2.choose()\n",
    "        result = self.compareChoices(p1,p2)\n",
    "        print(\"Round resulted in a {result}\".format(result = self.getResultAsString(result) ))\n",
    "        if result > 0:\n",
    "            p1.incrementPoint()\n",
    "        elif result < 0:\n",
    "            p2.incrementPoint()\n",
    "        else:\n",
    "            print(\"No points for anybody\")\n",
    "    \n",
    "    def compareChoices(self, p1, p2):\n",
    "        return self.rules[p1.toNumericalChoice()][p2.toNumericalChoice()]\n",
    "    def awardPoints(self):\n",
    "        print(\"implement\")\n",
    "    def getResultAsString(self, result):\n",
    "        res = {\n",
    "          0: \"draw\",\n",
    "          1: \"win\",\n",
    "          -1: \"loss\"\n",
    "        }\n",
    "        return res[result]"
   ]
  },
  {
   "cell_type": "markdown",
   "id": "405ef7c6-36ce-4895-aa53-94eb41715dfa",
   "metadata": {},
   "source": [
    "Create a class for the actual game to run"
   ]
  },
  {
   "cell_type": "code",
   "execution_count": 3,
   "id": "abf49b27-239b-4b16-a8dd-17b9e8c6afea",
   "metadata": {},
   "outputs": [],
   "source": [
    "class Game:\n",
    "    def __init__(self):\n",
    "        self.endGame = False\n",
    "        self.participant = Participant(\"Spock\")\n",
    "        self.secondParticipant = Participant(\"Kirk\")\n",
    "    def start(self):\n",
    "        while not self.endGame:\n",
    "            GameRound(self.participant, self.secondParticipant)\n",
    "            self.checkEndCondition()\n",
    "      \n",
    "    def checkEndCondition(self):\n",
    "        answer = input(\"Continue game y/n: \")\n",
    "        if answer == 'y':\n",
    "            GameRound(self.participant, self.secondParticipant)\n",
    "            self.checkEndCondition()\n",
    "        else:\n",
    "            print(\"Game ended, {p1name} has {p1points}, and {p2name} has {p2points}\".format(p1name = self.participant.name, p1points= self.participant.points, p2name=self.secondParticipant.name, p2points=self.secondParticipant.points))\n",
    "            self.determineWinner()\n",
    "            self.endGame = True\n",
    "\n",
    "    def determineWinner(self):\n",
    "        resultString = \"It's a Draw\"\n",
    "        if self.participant.points > self.secondParticipant.points:\n",
    "            resultString = \"Winner is {name}\".format(name=self.participant.name)\n",
    "        elif self.participant.points < self.secondParticipant.points:\n",
    "            resultString = \"Winner is {name}\".format(name=self.secondParticipant.name)\n",
    "    \n",
    "        print(resultString)  "
   ]
  },
  {
   "cell_type": "markdown",
   "id": "3459b9e4-afbd-4e46-b8a4-151d6fff3132",
   "metadata": {},
   "source": [
    "Run the game"
   ]
  },
  {
   "cell_type": "code",
   "execution_count": 4,
   "id": "ad39d53f-0293-4c0a-aedc-3053223e0f1e",
   "metadata": {},
   "outputs": [
    {
     "name": "stdin",
     "output_type": "stream",
     "text": [
      "Spock, select rock, paper, scissor, lizard or spock:  spock\n"
     ]
    },
    {
     "name": "stdout",
     "output_type": "stream",
     "text": [
      "Spock selects spock\n"
     ]
    },
    {
     "name": "stdin",
     "output_type": "stream",
     "text": [
      "Kirk, select rock, paper, scissor, lizard or spock:  paper\n"
     ]
    },
    {
     "name": "stdout",
     "output_type": "stream",
     "text": [
      "Kirk selects paper\n",
      "Round resulted in a loss\n"
     ]
    },
    {
     "name": "stdin",
     "output_type": "stream",
     "text": [
      "Continue game y/n:  n\n"
     ]
    },
    {
     "name": "stdout",
     "output_type": "stream",
     "text": [
      "Game ended, Spock has 0, and Kirk has 1\n",
      "Winner is Kirk\n"
     ]
    }
   ],
   "source": [
    "game = Game()\n",
    "game.start()"
   ]
  },
  {
   "cell_type": "code",
   "execution_count": null,
   "id": "ff135497-4489-4457-b403-5c0f418be545",
   "metadata": {},
   "outputs": [],
   "source": []
  }
 ],
 "metadata": {
  "kernelspec": {
   "display_name": "Programming",
   "language": "python",
   "name": "programming"
  },
  "language_info": {
   "codemirror_mode": {
    "name": "ipython",
    "version": 3
   },
   "file_extension": ".py",
   "mimetype": "text/x-python",
   "name": "python",
   "nbconvert_exporter": "python",
   "pygments_lexer": "ipython3",
   "version": "3.9.5"
  }
 },
 "nbformat": 4,
 "nbformat_minor": 5
}
